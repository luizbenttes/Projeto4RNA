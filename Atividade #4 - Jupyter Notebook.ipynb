{
 "cells": [
  {
   "cell_type": "markdown",
   "metadata": {},
   "source": [
    "# Atividade 4 - 30/10/2018\n",
    "\n",
    "**Apresentação da Tarefa:** 30/10/18 <br>\n",
    "**Data da Entrega:** 08/11/18\n",
    "\n",
    "### Equipe\n",
    "\n",
    "- Luiz Eduardo Fernandes Bentes - 1415080151\n",
    "- Vitor Matheus de Souza Carvalho - 1515080624\n",
    "\n",
    "**Link para o Repositório:** https://github.com/VitorMatheus097/ANN-FourthProject"
   ]
  },
  {
   "cell_type": "markdown",
   "metadata": {},
   "source": [
    "## Importação de bibliotecas e funções auxiliares"
   ]
  },
  {
   "cell_type": "code",
   "execution_count": 1,
   "metadata": {},
   "outputs": [],
   "source": [
    "import pandas as pd\n",
    "import numpy as np\n",
    "import os\n",
    "\n",
    "from matplotlib import pyplot as plt\n",
    "import seaborn as sns\n",
    "\n",
    "from sklearn.metrics import confusion_matrix, accuracy_score, precision_score, recall_score, f1_score\n",
    "from sklearn.model_selection import train_test_split, GridSearchCV\n",
    "from sklearn.neural_network import MLPClassifier\n",
    "\n",
    "import warnings\n",
    "warnings.filterwarnings('ignore')"
   ]
  },
  {
   "cell_type": "code",
   "execution_count": 2,
   "metadata": {},
   "outputs": [],
   "source": [
    "def classificationReport(Y_true, Y_predicted, model, average):\n",
    "    accuracy = accuracy_score(Y_true, Y_predicted)\n",
    "    precision = precision_score(Y_true, Y_predicted, average=average)\n",
    "    recall = recall_score(Y_true, Y_predicted, average=average)\n",
    "    f1Score = f1_score(Y_true, Y_predicted, average=average)\n",
    "    \n",
    "    cfDict = {'Acurácia': accuracy, \n",
    "              'Precisão' : precision, \n",
    "              'Revocação' : recall, \n",
    "              'F-Score': f1Score}\n",
    "\n",
    "    classificationDescription = pd.DataFrame(cfDict, index=[model])\n",
    "    return classificationDescription"
   ]
  },
  {
   "cell_type": "markdown",
   "metadata": {},
   "source": [
    "## Preparação dos dados"
   ]
  },
  {
   "cell_type": "code",
   "execution_count": 3,
   "metadata": {},
   "outputs": [
    {
     "data": {
      "text/html": [
       "<div>\n",
       "<style scoped>\n",
       "    .dataframe tbody tr th:only-of-type {\n",
       "        vertical-align: middle;\n",
       "    }\n",
       "\n",
       "    .dataframe tbody tr th {\n",
       "        vertical-align: top;\n",
       "    }\n",
       "\n",
       "    .dataframe thead th {\n",
       "        text-align: right;\n",
       "    }\n",
       "</style>\n",
       "<table border=\"1\" class=\"dataframe\">\n",
       "  <thead>\n",
       "    <tr style=\"text-align: right;\">\n",
       "      <th></th>\n",
       "      <th>area_A</th>\n",
       "      <th>perimeter_P</th>\n",
       "      <th>compactness</th>\n",
       "      <th>length_of_kernel</th>\n",
       "      <th>width_of_kernel</th>\n",
       "      <th>asymmetry_coefficient</th>\n",
       "      <th>length_of_kernel_groove</th>\n",
       "      <th>class</th>\n",
       "    </tr>\n",
       "  </thead>\n",
       "  <tbody>\n",
       "    <tr>\n",
       "      <th>3</th>\n",
       "      <td>13.84</td>\n",
       "      <td>13.94</td>\n",
       "      <td>0.8955</td>\n",
       "      <td>5.324</td>\n",
       "      <td>3.379</td>\n",
       "      <td>2.259</td>\n",
       "      <td>4.805</td>\n",
       "      <td>1</td>\n",
       "    </tr>\n",
       "    <tr>\n",
       "      <th>99</th>\n",
       "      <td>18.72</td>\n",
       "      <td>16.34</td>\n",
       "      <td>0.8810</td>\n",
       "      <td>6.219</td>\n",
       "      <td>3.684</td>\n",
       "      <td>2.188</td>\n",
       "      <td>6.097</td>\n",
       "      <td>2</td>\n",
       "    </tr>\n",
       "    <tr>\n",
       "      <th>45</th>\n",
       "      <td>13.80</td>\n",
       "      <td>14.04</td>\n",
       "      <td>0.8794</td>\n",
       "      <td>5.376</td>\n",
       "      <td>3.155</td>\n",
       "      <td>1.560</td>\n",
       "      <td>4.961</td>\n",
       "      <td>1</td>\n",
       "    </tr>\n",
       "  </tbody>\n",
       "</table>\n",
       "</div>"
      ],
      "text/plain": [
       "    area_A  perimeter_P  compactness  length_of_kernel  width_of_kernel  \\\n",
       "3    13.84        13.94       0.8955             5.324            3.379   \n",
       "99   18.72        16.34       0.8810             6.219            3.684   \n",
       "45   13.80        14.04       0.8794             5.376            3.155   \n",
       "\n",
       "    asymmetry_coefficient  length_of_kernel_groove  class  \n",
       "3                   2.259                    4.805      1  \n",
       "99                  2.188                    6.097      2  \n",
       "45                  1.560                    4.961      1  "
      ]
     },
     "execution_count": 3,
     "metadata": {},
     "output_type": "execute_result"
    }
   ],
   "source": [
    "path = os.path.join('data', 'seeds.csv')\n",
    "\n",
    "data = pd.read_csv(path)\n",
    "data.sample(3)"
   ]
  },
  {
   "cell_type": "code",
   "execution_count": 4,
   "metadata": {},
   "outputs": [
    {
     "data": {
      "image/png": "[encoded data removed]",
      "text/plain": [
       "<Figure size 1332x612 with 1 Axes>"
      ]
     },
     "metadata": {},
     "output_type": "display_data"
    }
   ],
   "source": [
    "correlations = data[data.columns.drop(['class'])].corrwith(data['class'])\n",
    "correlations.sort_values(inplace=True)\n",
    "\n",
    "ax = plt.axes()\n",
    "for x, y, label in zip(range(0, len(correlations)), correlations, correlations.keys()):\n",
    "    ax.bar(x, y, label=label)\n",
    "\n",
    "plt.title(\"Correlação de Pearson\", fontsize=16)\n",
    "plt.xlabel('Atributos', fontsize=14)\n",
    "plt.ylabel('Correlação', fontsize=14)\n",
    "\n",
    "ax.set(ylim=[-1, 1])\n",
    "plt.xticks([])\n",
    "plt.legend()\n",
    "\n",
    "fig = plt.gcf()\n",
    "fig.set_size_inches(18.5, 8.5)\n",
    "\n",
    "plt.show()"
   ]
  },
  {
   "cell_type": "markdown",
   "metadata": {},
   "source": [
    "Como observado acima, o atributo ***length_of_kernel_groove*** possui a menor correlção linear com o atributo alvo, deste modo, o mesmo foi descosiderado para a etapa de treinamento, visto que pouco refletiria no resultado final. "
   ]
  },
  {
   "cell_type": "code",
   "execution_count": 5,
   "metadata": {},
   "outputs": [],
   "source": [
    "X, Y = data[data.columns.drop(['length_of_kernel_groove', 'class'])], data['class']\n",
    "X_train, X_test, Y_train, Y_test = train_test_split(X, Y, test_size=0.4, shuffle=True)"
   ]
  },
  {
   "cell_type": "markdown",
   "metadata": {},
   "source": [
    "## Parâmetros da rede"
   ]
  },
  {
   "cell_type": "code",
   "execution_count": 6,
   "metadata": {},
   "outputs": [],
   "source": [
    "alphas, ni, no = [0.5, 2.0, 3.0], len(X_train.columns), 3\n",
    "hidden_layers = []\n",
    "\n",
    "for alpha in alphas:\n",
    "    nh = int(round(alpha * np.sqrt(ni * no)))\n",
    "    \n",
    "    for i in range(1, nh+1):\n",
    "        if (nh - i):\n",
    "            t = (ni, i, nh-i, no,)\n",
    "        else:\n",
    "            t = (ni, i, no,)\n",
    "        \n",
    "        hidden_layers.append(t)"
   ]
  },
  {
   "cell_type": "code",
   "execution_count": 7,
   "metadata": {},
   "outputs": [],
   "source": [
    "params = {'activation' : ['identity', 'logistic', 'tanh', 'relu'],\n",
    "          'solver' : ['lbfgs'],\n",
    "          'alpha' : [1e-3, 1e-5, 1e-7],\n",
    "          'learning_rate' : ['adaptive'],\n",
    "          'hidden_layer_sizes' : hidden_layers}"
   ]
  },
  {
   "cell_type": "markdown",
   "metadata": {
    "scrolled": false
   },
   "source": [
    "## Treinamento e Resultados"
   ]
  },
  {
   "cell_type": "code",
   "execution_count": 8,
   "metadata": {},
   "outputs": [],
   "source": [
    "gs = GridSearchCV(MLPClassifier(), params, cv=3, n_jobs=-1, scoring='accuracy', return_train_score=False)\n",
    "gs.fit(X, Y);"
   ]
  },
  {
   "cell_type": "code",
   "execution_count": 9,
   "metadata": {},
   "outputs": [],
   "source": [
    "results = pd.DataFrame(gs.cv_results_).drop(['params'], axis=1)\n",
    "results.sort_values('rank_test_score', inplace=True)"
   ]
  },
  {
   "cell_type": "code",
   "execution_count": 10,
   "metadata": {},
   "outputs": [],
   "source": [
    "best_model = gs.best_estimator_\n",
    "best_model.fit(X_train, Y_train);\n",
    "\n",
    "Y_pred = best_model.predict(X_test)"
   ]
  },
  {
   "cell_type": "markdown",
   "metadata": {},
   "source": [
    "#### Melhores modelos"
   ]
  },
  {
   "cell_type": "code",
   "execution_count": 11,
   "metadata": {},
   "outputs": [
    {
     "data": {
      "text/html": [
       "<div>\n",
       "<style scoped>\n",
       "    .dataframe tbody tr th:only-of-type {\n",
       "        vertical-align: middle;\n",
       "    }\n",
       "\n",
       "    .dataframe tbody tr th {\n",
       "        vertical-align: top;\n",
       "    }\n",
       "\n",
       "    .dataframe thead th {\n",
       "        text-align: right;\n",
       "    }\n",
       "</style>\n",
       "<table border=\"1\" class=\"dataframe\">\n",
       "  <thead>\n",
       "    <tr style=\"text-align: right;\">\n",
       "      <th></th>\n",
       "      <th>mean_fit_time</th>\n",
       "      <th>std_fit_time</th>\n",
       "      <th>mean_score_time</th>\n",
       "      <th>std_score_time</th>\n",
       "      <th>param_activation</th>\n",
       "      <th>param_alpha</th>\n",
       "      <th>param_hidden_layer_sizes</th>\n",
       "      <th>param_learning_rate</th>\n",
       "      <th>param_solver</th>\n",
       "      <th>split0_test_score</th>\n",
       "      <th>split1_test_score</th>\n",
       "      <th>split2_test_score</th>\n",
       "      <th>mean_test_score</th>\n",
       "      <th>std_test_score</th>\n",
       "      <th>rank_test_score</th>\n",
       "    </tr>\n",
       "  </thead>\n",
       "  <tbody>\n",
       "    <tr>\n",
       "      <th>24</th>\n",
       "      <td>0.298960</td>\n",
       "      <td>0.016029</td>\n",
       "      <td>0.000451</td>\n",
       "      <td>0.000017</td>\n",
       "      <td>identity</td>\n",
       "      <td>1e-05</td>\n",
       "      <td>(6, 2, 3)</td>\n",
       "      <td>adaptive</td>\n",
       "      <td>lbfgs</td>\n",
       "      <td>0.958333</td>\n",
       "      <td>0.927536</td>\n",
       "      <td>0.811594</td>\n",
       "      <td>0.900000</td>\n",
       "      <td>0.063117</td>\n",
       "      <td>1</td>\n",
       "    </tr>\n",
       "    <tr>\n",
       "      <th>248</th>\n",
       "      <td>0.158502</td>\n",
       "      <td>0.058239</td>\n",
       "      <td>0.000486</td>\n",
       "      <td>0.000004</td>\n",
       "      <td>relu</td>\n",
       "      <td>1e-05</td>\n",
       "      <td>(6, 9, 4, 3)</td>\n",
       "      <td>adaptive</td>\n",
       "      <td>lbfgs</td>\n",
       "      <td>0.944444</td>\n",
       "      <td>0.942029</td>\n",
       "      <td>0.797101</td>\n",
       "      <td>0.895238</td>\n",
       "      <td>0.068658</td>\n",
       "      <td>2</td>\n",
       "    </tr>\n",
       "    <tr>\n",
       "      <th>6</th>\n",
       "      <td>0.107995</td>\n",
       "      <td>0.004040</td>\n",
       "      <td>0.000465</td>\n",
       "      <td>0.000014</td>\n",
       "      <td>identity</td>\n",
       "      <td>0.001</td>\n",
       "      <td>(6, 5, 3, 3)</td>\n",
       "      <td>adaptive</td>\n",
       "      <td>lbfgs</td>\n",
       "      <td>0.958333</td>\n",
       "      <td>0.927536</td>\n",
       "      <td>0.797101</td>\n",
       "      <td>0.895238</td>\n",
       "      <td>0.069800</td>\n",
       "      <td>2</td>\n",
       "    </tr>\n",
       "    <tr>\n",
       "      <th>52</th>\n",
       "      <td>0.187504</td>\n",
       "      <td>0.017434</td>\n",
       "      <td>0.000455</td>\n",
       "      <td>0.000008</td>\n",
       "      <td>identity</td>\n",
       "      <td>1e-07</td>\n",
       "      <td>(6, 5, 3, 3)</td>\n",
       "      <td>adaptive</td>\n",
       "      <td>lbfgs</td>\n",
       "      <td>0.972222</td>\n",
       "      <td>0.927536</td>\n",
       "      <td>0.782609</td>\n",
       "      <td>0.895238</td>\n",
       "      <td>0.080887</td>\n",
       "      <td>2</td>\n",
       "    </tr>\n",
       "    <tr>\n",
       "      <th>18</th>\n",
       "      <td>0.108788</td>\n",
       "      <td>0.003091</td>\n",
       "      <td>0.000464</td>\n",
       "      <td>0.000014</td>\n",
       "      <td>identity</td>\n",
       "      <td>0.001</td>\n",
       "      <td>(6, 9, 4, 3)</td>\n",
       "      <td>adaptive</td>\n",
       "      <td>lbfgs</td>\n",
       "      <td>0.958333</td>\n",
       "      <td>0.927536</td>\n",
       "      <td>0.797101</td>\n",
       "      <td>0.895238</td>\n",
       "      <td>0.069800</td>\n",
       "      <td>2</td>\n",
       "    </tr>\n",
       "  </tbody>\n",
       "</table>\n",
       "</div>"
      ],
      "text/plain": [
       "     mean_fit_time  std_fit_time  mean_score_time  std_score_time  \\\n",
       "24        0.298960      0.016029         0.000451        0.000017   \n",
       "248       0.158502      0.058239         0.000486        0.000004   \n",
       "6         0.107995      0.004040         0.000465        0.000014   \n",
       "52        0.187504      0.017434         0.000455        0.000008   \n",
       "18        0.108788      0.003091         0.000464        0.000014   \n",
       "\n",
       "    param_activation param_alpha param_hidden_layer_sizes param_learning_rate  \\\n",
       "24          identity       1e-05                (6, 2, 3)            adaptive   \n",
       "248             relu       1e-05             (6, 9, 4, 3)            adaptive   \n",
       "6           identity       0.001             (6, 5, 3, 3)            adaptive   \n",
       "52          identity       1e-07             (6, 5, 3, 3)            adaptive   \n",
       "18          identity       0.001             (6, 9, 4, 3)            adaptive   \n",
       "\n",
       "    param_solver  split0_test_score  split1_test_score  split2_test_score  \\\n",
       "24         lbfgs           0.958333           0.927536           0.811594   \n",
       "248        lbfgs           0.944444           0.942029           0.797101   \n",
       "6          lbfgs           0.958333           0.927536           0.797101   \n",
       "52         lbfgs           0.972222           0.927536           0.782609   \n",
       "18         lbfgs           0.958333           0.927536           0.797101   \n",
       "\n",
       "     mean_test_score  std_test_score  rank_test_score  \n",
       "24          0.900000        0.063117                1  \n",
       "248         0.895238        0.068658                2  \n",
       "6           0.895238        0.069800                2  \n",
       "52          0.895238        0.080887                2  \n",
       "18          0.895238        0.069800                2  "
      ]
     },
     "execution_count": 11,
     "metadata": {},
     "output_type": "execute_result"
    }
   ],
   "source": [
    "results.head()"
   ]
  },
  {
   "cell_type": "markdown",
   "metadata": {},
   "source": [
    "#### Melhor modelo"
   ]
  },
  {
   "cell_type": "code",
   "execution_count": 12,
   "metadata": {},
   "outputs": [
    {
     "data": {
      "text/html": [
       "<div>\n",
       "<style scoped>\n",
       "    .dataframe tbody tr th:only-of-type {\n",
       "        vertical-align: middle;\n",
       "    }\n",
       "\n",
       "    .dataframe tbody tr th {\n",
       "        vertical-align: top;\n",
       "    }\n",
       "\n",
       "    .dataframe thead th {\n",
       "        text-align: right;\n",
       "    }\n",
       "</style>\n",
       "<table border=\"1\" class=\"dataframe\">\n",
       "  <thead>\n",
       "    <tr style=\"text-align: right;\">\n",
       "      <th></th>\n",
       "      <th>mean_fit_time</th>\n",
       "      <th>std_fit_time</th>\n",
       "      <th>mean_score_time</th>\n",
       "      <th>std_score_time</th>\n",
       "      <th>param_activation</th>\n",
       "      <th>param_alpha</th>\n",
       "      <th>param_hidden_layer_sizes</th>\n",
       "      <th>param_learning_rate</th>\n",
       "      <th>param_solver</th>\n",
       "      <th>split0_test_score</th>\n",
       "      <th>split1_test_score</th>\n",
       "      <th>split2_test_score</th>\n",
       "      <th>mean_test_score</th>\n",
       "      <th>std_test_score</th>\n",
       "      <th>rank_test_score</th>\n",
       "    </tr>\n",
       "  </thead>\n",
       "  <tbody>\n",
       "    <tr>\n",
       "      <th>24</th>\n",
       "      <td>0.29896</td>\n",
       "      <td>0.016029</td>\n",
       "      <td>0.000451</td>\n",
       "      <td>0.000017</td>\n",
       "      <td>identity</td>\n",
       "      <td>1e-05</td>\n",
       "      <td>(6, 2, 3)</td>\n",
       "      <td>adaptive</td>\n",
       "      <td>lbfgs</td>\n",
       "      <td>0.958333</td>\n",
       "      <td>0.927536</td>\n",
       "      <td>0.811594</td>\n",
       "      <td>0.9</td>\n",
       "      <td>0.063117</td>\n",
       "      <td>1</td>\n",
       "    </tr>\n",
       "  </tbody>\n",
       "</table>\n",
       "</div>"
      ],
      "text/plain": [
       "    mean_fit_time  std_fit_time  mean_score_time  std_score_time  \\\n",
       "24        0.29896      0.016029         0.000451        0.000017   \n",
       "\n",
       "   param_activation param_alpha param_hidden_layer_sizes param_learning_rate  \\\n",
       "24         identity       1e-05                (6, 2, 3)            adaptive   \n",
       "\n",
       "   param_solver  split0_test_score  split1_test_score  split2_test_score  \\\n",
       "24        lbfgs           0.958333           0.927536           0.811594   \n",
       "\n",
       "    mean_test_score  std_test_score  rank_test_score  \n",
       "24              0.9        0.063117                1  "
      ]
     },
     "execution_count": 12,
     "metadata": {},
     "output_type": "execute_result"
    }
   ],
   "source": [
    "results.head(1)"
   ]
  },
  {
   "cell_type": "markdown",
   "metadata": {},
   "source": [
    "## Métricas de Desempenho"
   ]
  },
  {
   "cell_type": "markdown",
   "metadata": {},
   "source": [
    "#### Métricas"
   ]
  },
  {
   "cell_type": "code",
   "execution_count": 13,
   "metadata": {},
   "outputs": [
    {
     "data": {
      "text/html": [
       "<div>\n",
       "<style scoped>\n",
       "    .dataframe tbody tr th:only-of-type {\n",
       "        vertical-align: middle;\n",
       "    }\n",
       "\n",
       "    .dataframe tbody tr th {\n",
       "        vertical-align: top;\n",
       "    }\n",
       "\n",
       "    .dataframe thead th {\n",
       "        text-align: right;\n",
       "    }\n",
       "</style>\n",
       "<table border=\"1\" class=\"dataframe\">\n",
       "  <thead>\n",
       "    <tr style=\"text-align: right;\">\n",
       "      <th></th>\n",
       "      <th>Acurácia</th>\n",
       "      <th>Precisão</th>\n",
       "      <th>Revocação</th>\n",
       "      <th>F-Score</th>\n",
       "    </tr>\n",
       "  </thead>\n",
       "  <tbody>\n",
       "    <tr>\n",
       "      <th>Melhor Modelo</th>\n",
       "      <td>0.928571</td>\n",
       "      <td>0.925</td>\n",
       "      <td>0.925334</td>\n",
       "      <td>0.924991</td>\n",
       "    </tr>\n",
       "  </tbody>\n",
       "</table>\n",
       "</div>"
      ],
      "text/plain": [
       "               Acurácia  Precisão  Revocação   F-Score\n",
       "Melhor Modelo  0.928571     0.925   0.925334  0.924991"
      ]
     },
     "execution_count": 13,
     "metadata": {},
     "output_type": "execute_result"
    }
   ],
   "source": [
    "results = classificationReport(Y_test, Y_pred, 'Melhor Modelo', 'macro')\n",
    "results"
   ]
  },
  {
   "cell_type": "markdown",
   "metadata": {},
   "source": [
    "#### Matriz de Confusão"
   ]
  },
  {
   "cell_type": "code",
   "execution_count": 14,
   "metadata": {},
   "outputs": [
    {
     "data": {
      "image/png": "[encoded data removed]",
      "text/plain": [
       "<Figure size 756x612 with 2 Axes>"
      ]
     },
     "metadata": {},
     "output_type": "display_data"
    }
   ],
   "source": [
    "sns.heatmap(confusion_matrix(Y_test, Y_pred), fmt='d', annot=True, cmap='Greys')\n",
    "\n",
    "fig = plt.gcf()\n",
    "fig.set_size_inches(10.5, 8.5)\n",
    "\n",
    "plt.title('Matriz de Confusão para o Melhor Modelo', fontsize=16)\n",
    "plt.xlabel('Valores Reais', fontsize=14);\n",
    "plt.ylabel('Valores Previstos', fontsize=14);\n",
    "\n",
    "plt.show()"
   ]
  },
  {
   "cell_type": "markdown",
   "metadata": {},
   "source": [
    "## Conclusões"
   ]
  },
  {
   "cell_type": "markdown",
   "metadata": {},
   "source": [
    "Diante dos resultados, o modelo que melhor se adequou à tarefa obteve **92.86%** de acurácia, sendo composto por 3 camadas ocultas e utilizando a função identidade como função de ativação. O solver escolhido foi o **lbfgs** visto que este é mais adequado a datasets pequenos como é o caso do dataset utilizado, o qual possui apenas 210 exemplos. Ainda a respeito do solver, este também se justifica devido às suas características de desempenho, pois leva menos tempo para convergência na etapa de treinamento, característica fundamental neste experimento, dada a quantidade de diferentes redes treinadas."
   ]
  }
 ],
 "metadata": {
  "kernelspec": {
   "display_name": "Python 3",
   "language": "python",
   "name": "python3"
  },
  "language_info": {
   "codemirror_mode": {
    "name": "ipython",
    "version": 3
   },
   "file_extension": ".py",
   "mimetype": "text/x-python",
   "name": "python",
   "nbconvert_exporter": "python",
   "pygments_lexer": "ipython3",
   "version": "3.6.5"
  }
 },
 "nbformat": 4,
 "nbformat_minor": 2
}
